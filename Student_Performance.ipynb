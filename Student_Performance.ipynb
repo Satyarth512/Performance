{
  "nbformat": 4,
  "nbformat_minor": 0,
  "metadata": {
    "kernelspec": {
      "display_name": "Python 3",
      "language": "python",
      "name": "python3"
    },
    "language_info": {
      "codemirror_mode": {
        "name": "ipython",
        "version": 3
      },
      "file_extension": ".py",
      "mimetype": "text/x-python",
      "name": "python",
      "nbconvert_exporter": "python",
      "pygments_lexer": "ipython3",
      "version": "3.7.3"
    },
    "colab": {
      "name": "Student Performance.ipynb",
      "provenance": [],
      "include_colab_link": true
    }
  },
  "cells": [
    {
      "cell_type": "markdown",
      "metadata": {
        "id": "view-in-github",
        "colab_type": "text"
      },
      "source": [
        "<a href=\"https://colab.research.google.com/github/Satyarth512/Performance/blob/master/Student_Performance.ipynb\" target=\"_parent\"><img src=\"https://colab.research.google.com/assets/colab-badge.svg\" alt=\"Open In Colab\"/></a>"
      ]
    },
    {
      "cell_type": "code",
      "metadata": {
        "id": "RIFIUSoImFxy",
        "colab_type": "code",
        "cellView": "both",
        "colab": {}
      },
      "source": [
        "\n",
        "\n",
        "import pandas as pd\n",
        "\n",
        "train=pd.read_csv(\"sample_data/abl.csv\")\n",
        "print(train)"
      ],
      "execution_count": null,
      "outputs": []
    },
    {
      "cell_type": "code",
      "metadata": {
        "id": "K4v-_bfZmFx7",
        "colab_type": "code",
        "colab": {}
      },
      "source": [
        "from sklearn.preprocessing import LabelEncoder\n",
        "le=LabelEncoder()\n",
        "Cat_features=train.iloc[:,0:9]\n",
        "for cat in Cat_features:\n",
        "    train[cat]=le.fit_transform(train[cat])"
      ],
      "execution_count": null,
      "outputs": []
    },
    {
      "cell_type": "code",
      "metadata": {
        "id": "l1YmtZZPmFx-",
        "colab_type": "code",
        "colab": {}
      },
      "source": [
        "\n",
        "for col in train.iloc[13:17]:\n",
        "    train[col]= le.fit_transform(train[col])"
      ],
      "execution_count": null,
      "outputs": []
    },
    {
      "cell_type": "code",
      "metadata": {
        "id": "Qivs2C1ymFyA",
        "colab_type": "code",
        "colab": {}
      },
      "source": [
        "y= train['7thsem']\n",
        "X= train.drop(['7thsem'], axis=1)"
      ],
      "execution_count": null,
      "outputs": []
    },
    {
      "cell_type": "code",
      "metadata": {
        "id": "YrlJIxIAmFyD",
        "colab_type": "code",
        "colab": {}
      },
      "source": [
        "from sklearn.model_selection import train_test_split\n",
        "X_tr,X_test,y_tr,y_test=train_test_split(X,y, test_size=0.30, random_state=0)\n",
        "\n"
      ],
      "execution_count": null,
      "outputs": []
    },
    {
      "cell_type": "code",
      "metadata": {
        "id": "oqcclCP3mFyF",
        "colab_type": "code",
        "colab": {
          "base_uri": "https://localhost:8080/",
          "height": 85
        },
        "outputId": "23e1c0b1-a581-47e2-e884-555654e8ddf7"
      },
      "source": [
        "from sklearn.ensemble import RandomForestClassifier\n",
        "rf=RandomForestClassifier(random_state=0,)\n",
        "rf.fit(X_tr,y_tr)\n",
        "y_pred_rf=rf.predict(X_test)\n",
        "predict = rf.predict(X_test)\n",
        "print(predict)"
      ],
      "execution_count": null,
      "outputs": [
        {
          "output_type": "stream",
          "text": [
            "[2 1 1 2 2 2 0 1 1 1 0 2 0 1 2 2 0 1 1 0 1 0 2 2 2 2 0 2 2 1 2 1 0 2 2 2 0\n",
            " 0 2 2 2 1 0 0 2 2 0 2 1 2 2 2 2 1 0 2 1 1 2 2 2 2 0 0 0 2 1 2 1 1 1 1 0 1\n",
            " 0 1 2 1 2 1 0 2 2 1 1 0 2 0 2 0 2 0 0 0 2 2 1 2 1 2 1 0 2 1 2 0 1 0 1 2 1\n",
            " 2 1 1 0 2 1 2 2 0 2 2 2 2 2 2 2 2 1 2 0 1 0 2 2 0 2 2 2 0 2 2 2 0]\n"
          ],
          "name": "stdout"
        }
      ]
    },
    {
      "cell_type": "code",
      "metadata": {
        "id": "MiACpRZEmFyH",
        "colab_type": "code",
        "colab": {
          "base_uri": "https://localhost:8080/",
          "height": 204
        },
        "outputId": "e792ef84-c356-4dca-f5e7-dadf8f3d24f0"
      },
      "source": [
        "from sklearn.metrics import accuracy_score,classification_report\n",
        "print('accuracy:', accuracy_score(y_test,y_pred_rf))\n",
        "print('CR:', classification_report(y_test,y_pred_rf))"
      ],
      "execution_count": null,
      "outputs": [
        {
          "output_type": "stream",
          "text": [
            "accuracy: 0.7777777777777778\n",
            "CR:               precision    recall  f1-score   support\n",
            "\n",
            "           0       0.72      0.67      0.69        39\n",
            "           1       0.82      0.94      0.88        34\n",
            "           2       0.78      0.76      0.77        71\n",
            "\n",
            "    accuracy                           0.78       144\n",
            "   macro avg       0.78      0.79      0.78       144\n",
            "weighted avg       0.78      0.78      0.78       144\n",
            "\n"
          ],
          "name": "stdout"
        }
      ]
    },
    {
      "cell_type": "code",
      "metadata": {
        "id": "u2Jo7ghtmFyK",
        "colab_type": "code",
        "colab": {}
      },
      "source": [
        ""
      ],
      "execution_count": null,
      "outputs": []
    }
  ]
}