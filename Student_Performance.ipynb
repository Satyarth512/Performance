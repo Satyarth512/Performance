{
  "nbformat": 4,
  "nbformat_minor": 0,
  "metadata": {
    "kernelspec": {
      "display_name": "Python 3",
      "language": "python",
      "name": "python3"
    },
    "language_info": {
      "codemirror_mode": {
        "name": "ipython",
        "version": 3
      },
      "file_extension": ".py",
      "mimetype": "text/x-python",
      "name": "python",
      "nbconvert_exporter": "python",
      "pygments_lexer": "ipython3",
      "version": "3.7.3"
    },
    "colab": {
      "name": "Student Performance.ipynb",
      "provenance": [],
      "collapsed_sections": [],
      "include_colab_link": true
    }
  },
  "cells": [
    {
      "cell_type": "markdown",
      "metadata": {
        "id": "view-in-github",
        "colab_type": "text"
      },
      "source": [
        "<a href=\"https://colab.research.google.com/github/Satyarth512/Performance/blob/master/Student_Performance.ipynb\" target=\"_parent\"><img src=\"https://colab.research.google.com/assets/colab-badge.svg\" alt=\"Open In Colab\"/></a>"
      ]
    },
    {
      "cell_type": "code",
      "metadata": {
        "id": "RIFIUSoImFxy",
        "colab_type": "code",
        "cellView": "both",
        "colab": {
          "base_uri": "https://localhost:8080/",
          "height": 323
        },
        "outputId": "0aa12eb2-f248-42d0-e8d8-eef14d49ca5b"
      },
      "source": [
        "\n",
        "import pandas as pd\n",
        "\n",
        "train=pd.read_csv(\"train.csv\")\n",
        "testit = pd.read_csv(\"predict.csv\")\n",
        "print(train)"
      ],
      "execution_count": 39,
      "outputs": [
        {
          "output_type": "stream",
          "text": [
            "   Gender  Age   8th  ...  Attandence  completed_assignment  7thsem\n",
            "0       M    25   84  ...          80                   100       H\n",
            "1       M    19   85  ...          90                    45       M\n",
            "2       M    19   75  ...          45                    45       M\n",
            "3       M    18   94  ...          78                   100       H\n",
            "4       M    24   70  ...          94                    45       H\n",
            "5       F    25   65  ...          75                    75       H\n",
            "6       F    24   64  ...          65                    95       H\n",
            "7       F    21   75  ...          75                    85       L\n",
            "8       F    26   78  ...          85                    75       M\n",
            "9       M    28   72  ...          84                    65       H\n",
            "10      M    24   71  ...          99                    85       M\n",
            "11      F    24   73  ...          56                    95       L\n",
            "12      M    23   78  ...          88                    75       M\n",
            "13      F    22   64  ...          84                    96       M\n",
            "14      M    19   78  ...          95                    75       H\n",
            "\n",
            "[15 rows x 15 columns]\n"
          ],
          "name": "stdout"
        }
      ]
    },
    {
      "cell_type": "code",
      "metadata": {
        "id": "K4v-_bfZmFx7",
        "colab_type": "code",
        "colab": {}
      },
      "source": [
        "from sklearn.preprocessing import LabelEncoder\n",
        "le=LabelEncoder()\n",
        "Cat_features=train.iloc[:,0:9]\n",
        "for cat in Cat_features:\n",
        "    train[cat]=le.fit_transform(train[cat])\n"
      ],
      "execution_count": 40,
      "outputs": []
    },
    {
      "cell_type": "code",
      "metadata": {
        "id": "l1YmtZZPmFx-",
        "colab_type": "code",
        "colab": {}
      },
      "source": [
        "\n",
        "for col in train.iloc[13:17]:\n",
        "    train[col]= le.fit_transform(train[col])"
      ],
      "execution_count": 41,
      "outputs": []
    },
    {
      "cell_type": "code",
      "metadata": {
        "id": "Qivs2C1ymFyA",
        "colab_type": "code",
        "colab": {
          "base_uri": "https://localhost:8080/",
          "height": 289
        },
        "outputId": "ac7e4db4-6ea8-4d7a-cfd5-24acd3979857"
      },
      "source": [
        "y= train['7thsem']\n",
        "X= train.drop(['7thsem'], axis=1)\n",
        "\n"
      ],
      "execution_count": 42,
      "outputs": [
        {
          "output_type": "stream",
          "text": [
            "0     0\n",
            "1     2\n",
            "2     2\n",
            "3     0\n",
            "4     0\n",
            "5     0\n",
            "6     0\n",
            "7     1\n",
            "8     2\n",
            "9     0\n",
            "10    2\n",
            "11    1\n",
            "12    2\n",
            "13    2\n",
            "14    0\n",
            "Name: 7thsem, dtype: int64\n"
          ],
          "name": "stdout"
        }
      ]
    },
    {
      "cell_type": "code",
      "metadata": {
        "id": "YrlJIxIAmFyD",
        "colab_type": "code",
        "colab": {}
      },
      "source": [
        "from sklearn.model_selection import train_test_split\n",
        "X_tr,X_test,y_tr,y_test=train_test_split(X,y, test_size=0.30, random_state=0)\n",
        "\n"
      ],
      "execution_count": 43,
      "outputs": []
    },
    {
      "cell_type": "code",
      "metadata": {
        "id": "oqcclCP3mFyF",
        "colab_type": "code",
        "colab": {
          "base_uri": "https://localhost:8080/",
          "height": 34
        },
        "outputId": "c7fe75d4-51d7-42ba-8268-052f98100d7c"
      },
      "source": [
        "from sklearn.ensemble import RandomForestClassifier\n",
        "rf=RandomForestClassifier(random_state=0,)\n",
        "rf.fit(X_tr,y_tr)\n",
        "y_pred_rf=rf.predict(X_test)\n"
      ],
      "execution_count": 47,
      "outputs": [
        {
          "output_type": "stream",
          "text": [
            "[0]\n"
          ],
          "name": "stdout"
        }
      ]
    },
    {
      "cell_type": "code",
      "metadata": {
        "id": "MiACpRZEmFyH",
        "colab_type": "code",
        "colab": {
          "base_uri": "https://localhost:8080/",
          "height": 187
        },
        "outputId": "65d24ed1-1e93-4e93-9cc1-351d7bdb41ff"
      },
      "source": [
        "from sklearn.metrics import accuracy_score,classification_report\n",
        "print('accuracy:', accuracy_score(y_test,y_pred_rf))\n",
        "print('CR:', classification_report(y_test,y_pred_rf))"
      ],
      "execution_count": 19,
      "outputs": [
        {
          "output_type": "stream",
          "text": [
            "accuracy: 0.4\n",
            "CR:               precision    recall  f1-score   support\n",
            "\n",
            "           0       0.50      0.33      0.40         3\n",
            "           2       0.33      0.50      0.40         2\n",
            "\n",
            "    accuracy                           0.40         5\n",
            "   macro avg       0.42      0.42      0.40         5\n",
            "weighted avg       0.43      0.40      0.40         5\n",
            "\n"
          ],
          "name": "stdout"
        }
      ]
    },
    {
      "cell_type": "code",
      "metadata": {
        "id": "u2Jo7ghtmFyK",
        "colab_type": "code",
        "colab": {
          "base_uri": "https://localhost:8080/",
          "height": 34
        },
        "outputId": "5151b479-8502-4bd0-950a-4ac863a1a007"
      },
      "source": [
        "print(predict)"
      ],
      "execution_count": 48,
      "outputs": [
        {
          "output_type": "stream",
          "text": [
            "[0]\n"
          ],
          "name": "stdout"
        }
      ]
    },
    {
      "cell_type": "code",
      "metadata": {
        "id": "me28GWLV86mP",
        "colab_type": "code",
        "colab": {}
      },
      "source": [
        ""
      ],
      "execution_count": null,
      "outputs": []
    }
  ]
}